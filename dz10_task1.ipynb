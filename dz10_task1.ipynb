{
 "cells": [
  {
   "cell_type": "markdown",
   "metadata": {},
   "source": [
    "# Задача 1.\n",
    "Провести дисперсионный анализ для определения того, есть ли различия среднего роста среди взрослых футболистов, хоккеистов и штангистов. Даны значения роста в трех группах случайно выбранных спортсменов:\n",
    "\n",
    "\n",
    "Футболисты: 173, 175, 180, 178, 177, 185, 183, 182.\n",
    "\n",
    "Хоккеисты:  177, 179, 180, 188, 177, 172, 171, 184, 180.\n",
    "\n",
    "Штангисты:  172, 173, 169, 177, 166, 180, 178, 177, 172, 166, 170."
   ]
  },
  {
   "cell_type": "code",
   "execution_count": 43,
   "metadata": {},
   "outputs": [],
   "source": [
    "import numpy as np\n",
    "import pandas as pd\n",
    "import scipy.stats as stats"
   ]
  },
  {
   "cell_type": "markdown",
   "metadata": {},
   "source": [
    "** Количество значений роста в каждой выборке сделаем одинаковым.\n",
    "\n",
    "(При разном количестве значений, как в условиях задачи изначально, в итоге принимаем гипотезу H1: ср.рост спортсменов различен)"
   ]
  },
  {
   "cell_type": "code",
   "execution_count": 44,
   "metadata": {},
   "outputs": [],
   "source": [
    "football_player=np.array([173, 175, 180, 178, 177, 185, 183, 182])\n",
    "hockey_player  =np.array([177, 179, 180, 188, 177, 172, 171, 184])\n",
    "weightlifter   =np.array([172, 173, 169, 177, 166, 180, 178, 177])"
   ]
  },
  {
   "cell_type": "markdown",
   "metadata": {},
   "source": [
    "Выдвинем гипотезы: \n",
    "\n",
    "H0 - средний рост футболистов, хоккеистов и штангистов равны между собой.\n",
    "\n",
    "\n",
    "H1 - средний рост спортсменов хотя бы одного вида спорта из перечисленных не равен другим.\n",
    "\n",
    "Уровень статистической значимости примем alpha = 0.05"
   ]
  },
  {
   "cell_type": "markdown",
   "metadata": {},
   "source": [
    "Проверим условия применимости дисперсионного анализа, а именно пункт о равенстве дисперсий выборок, - проведем тест Бартлетта:"
   ]
  },
  {
   "cell_type": "code",
   "execution_count": 45,
   "metadata": {},
   "outputs": [
    {
     "name": "stdout",
     "output_type": "stream",
     "text": [
      "Test statistic: 0.6733241084753642\n",
      "p-value: 0.7141501431412535\n"
     ]
    }
   ],
   "source": [
    "from scipy.stats import bartlett \n",
    "stat, p = bartlett(football_player, hockey_player, weightlifter)\n",
    "\n",
    "print(\"Test statistic:\", stat)\n",
    "print(\"p-value:\", p)\n",
    "alpha = 0.05"
   ]
  },
  {
   "cell_type": "code",
   "execution_count": 46,
   "metadata": {},
   "outputs": [
    {
     "name": "stdout",
     "output_type": "stream",
     "text": [
      "Принимаем H0: дисперсии каждой группы равны между собой\n"
     ]
    }
   ],
   "source": [
    "if p > alpha:\n",
    "    print(\"Принимаем H0: дисперсии каждой группы равны между собой\")\n",
    "else:\n",
    "    print(\"Принимаем Н1: по крайней мере одна группа имеет дисперсию, которая не равна остальным\")"
   ]
  },
  {
   "cell_type": "markdown",
   "metadata": {},
   "source": [
    "Проверим выборки на нормальность при помощи теста Шапиро:"
   ]
  },
  {
   "cell_type": "code",
   "execution_count": 47,
   "metadata": {},
   "outputs": [
    {
     "name": "stdout",
     "output_type": "stream",
     "text": [
      "p-value footbal_player: 0.9495404362678528\n"
     ]
    }
   ],
   "source": [
    "from scipy.stats import shapiro\n",
    "stat, p1 = shapiro(football_player)\n",
    "print(\"p-value footbal_player:\", p1)"
   ]
  },
  {
   "cell_type": "code",
   "execution_count": 48,
   "metadata": {},
   "outputs": [
    {
     "name": "stdout",
     "output_type": "stream",
     "text": [
      "Принимаем H0\n"
     ]
    }
   ],
   "source": [
    "if p1 > alpha:\n",
    "    print(\"Принимаем H0\")\n",
    "else:\n",
    "    print(\"Принимаем Н1\")"
   ]
  },
  {
   "cell_type": "code",
   "execution_count": 49,
   "metadata": {},
   "outputs": [
    {
     "name": "stdout",
     "output_type": "stream",
     "text": [
      "p-value hockey_player: 0.798108696937561\n"
     ]
    }
   ],
   "source": [
    "stat, p2 = shapiro(hockey_player)\n",
    "print(\"p-value hockey_player:\", p2)"
   ]
  },
  {
   "cell_type": "code",
   "execution_count": 50,
   "metadata": {},
   "outputs": [
    {
     "name": "stdout",
     "output_type": "stream",
     "text": [
      "Принимаем H0\n"
     ]
    }
   ],
   "source": [
    "if p2 > alpha:\n",
    "    print(\"Принимаем H0\")\n",
    "else:\n",
    "    print(\"Принимаем Н1\")"
   ]
  },
  {
   "cell_type": "code",
   "execution_count": 51,
   "metadata": {},
   "outputs": [
    {
     "name": "stdout",
     "output_type": "stream",
     "text": [
      "p-value weightlifter: 0.6154746413230896\n"
     ]
    }
   ],
   "source": [
    "stat, p3 = shapiro(weightlifter)\n",
    "print(\"p-value weightlifter:\", p3)"
   ]
  },
  {
   "cell_type": "code",
   "execution_count": 52,
   "metadata": {},
   "outputs": [
    {
     "name": "stdout",
     "output_type": "stream",
     "text": [
      "Принимаем H0\n"
     ]
    }
   ],
   "source": [
    "if p3 > alpha:\n",
    "    print(\"Принимаем H0\")\n",
    "else:\n",
    "    print(\"Принимаем Н1\")"
   ]
  },
  {
   "cell_type": "markdown",
   "metadata": {},
   "source": [
    "Во всех трех выборках была принята нулевая гипотеза, значит условия нормальности выполняются и можно провести однофакторный дисперсионный анализ."
   ]
  },
  {
   "cell_type": "code",
   "execution_count": 53,
   "metadata": {},
   "outputs": [
    {
     "name": "stdout",
     "output_type": "stream",
     "text": [
      "p-value f_oneway: 0.09948994808623587\n"
     ]
    }
   ],
   "source": [
    "stat, pvalue = stats.f_oneway(football_player, hockey_player, weightlifter)\n",
    "print(\"p-value f_oneway:\", pvalue)"
   ]
  },
  {
   "cell_type": "code",
   "execution_count": 54,
   "metadata": {},
   "outputs": [
    {
     "name": "stdout",
     "output_type": "stream",
     "text": [
      "Принимаем гипотезу H0: средний рост футболистов, хоккеистов и штангистов одинаков\n"
     ]
    }
   ],
   "source": [
    "if pvalue > alpha:\n",
    "    print(\"Принимаем гипотезу H0: средний рост футболистов, хоккеистов и штангистов одинаков\")\n",
    "else:\n",
    "    print(\"Принимаем гипотезу Н1: средний рост спортсменов из разных выборок различен.\")"
   ]
  }
 ],
 "metadata": {
  "kernelspec": {
   "display_name": "Python 3",
   "language": "python",
   "name": "python3"
  },
  "language_info": {
   "codemirror_mode": {
    "name": "ipython",
    "version": 3
   },
   "file_extension": ".py",
   "mimetype": "text/x-python",
   "name": "python",
   "nbconvert_exporter": "python",
   "pygments_lexer": "ipython3",
   "version": "3.11.3"
  }
 },
 "nbformat": 4,
 "nbformat_minor": 2
}
